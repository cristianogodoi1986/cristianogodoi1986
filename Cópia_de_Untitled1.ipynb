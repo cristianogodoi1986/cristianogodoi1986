{
  "nbformat": 4,
  "nbformat_minor": 0,
  "metadata": {
    "colab": {
      "provenance": [],
      "authorship_tag": "ABX9TyNgBrHeDlP2VYDbusrJTXrW",
      "include_colab_link": true
    },
    "kernelspec": {
      "name": "python3",
      "display_name": "Python 3"
    },
    "language_info": {
      "name": "python"
    }
  },
  "cells": [
    {
      "cell_type": "markdown",
      "metadata": {
        "id": "view-in-github",
        "colab_type": "text"
      },
      "source": [
        "<a href=\"https://colab.research.google.com/github/cristianogodoi1986/cristianogodoi1986/blob/main/C%C3%B3pia_de_Untitled1.ipynb\" target=\"_parent\"><img src=\"https://colab.research.google.com/assets/colab-badge.svg\" alt=\"Open In Colab\"/></a>"
      ]
    },
    {
      "cell_type": "markdown",
      "source": [
        "# TRABALHO DE LÓGICA DE PROGRAMAÇÃO EM PYTHON CURSO DATA ANALYTICS 12 (GRUPO YTO NIHON\n",
        "#PROFESSOR: GUILHERME\n",
        "# NOME: CRISTIANO DE GODOI\n",
        "# Data DE CRIAÇÃO: 12/09/2025 AS 20:00\n",
        "# Plataforma DE CRIAÇÃO: Google Colab"
      ],
      "metadata": {
        "id": "fqv0SsfRCk2-"
      }
    },
    {
      "cell_type": "code",
      "source": [
        "print(\"🐍 TRABALHO DE LÓGICA DE PROGRAMAÇÃO EM PYTHON 🐍\")\n",
        "print(\"=\" * 60)"
      ],
      "metadata": {
        "colab": {
          "base_uri": "https://localhost:8080/"
        },
        "id": "OUItr8j8C5LF",
        "outputId": "bb60fd93-3234-4499-865d-b42c980501e3"
      },
      "execution_count": 6,
      "outputs": [
        {
          "output_type": "stream",
          "name": "stdout",
          "text": [
            "🐍 TRABALHO DE LÓGICA DE PROGRAMAÇÃO EM PYTHON 🐍\n",
            "============================================================\n"
          ]
        }
      ]
    },
    {
      "cell_type": "code",
      "source": [
        "\n",
        "#1. VARIÁVEIS E TIPOS DE DADOS EM PYTHON\n",
        "\n",
        "print(\"\\n 1. VARIÁVEIS E TIPOS DE DADOS\")\n",
        "print(\"-\" * 40)"
      ],
      "metadata": {
        "colab": {
          "base_uri": "https://localhost:8080/"
        },
        "id": "LMI-SAcyC-H9",
        "outputId": "715c75f3-1ad2-42cc-ab2a-8cf645f37d0f"
      },
      "execution_count": 9,
      "outputs": [
        {
          "output_type": "stream",
          "name": "stdout",
          "text": [
            "\n",
            " 1. VARIÁVEIS E TIPOS DE DADOS\n",
            "----------------------------------------\n"
          ]
        }
      ]
    },
    {
      "cell_type": "code",
      "source": [
        "# Variáveis numéricas\n",
        "idade = 25                    # int (número inteiro)\n",
        "altura = 1.75                # float (número decimal)\n",
        "peso = 70.5                  # float\n",
        "\n",
        "# Variáveis de texto\n",
        "nome = \"João Silva\"          # string (texto)\n",
        "cidade = \"São Paulo\"         # string\n",
        "\n",
        "# Variáveis booleanas\n",
        "is_estudante = True          # bool (verdadeiro/falso)\n",
        "tem_carteira = False         # bool"
      ],
      "metadata": {
        "id": "u2GLEYB7DLql"
      },
      "execution_count": 11,
      "outputs": []
    },
    {
      "cell_type": "code",
      "source": [
        "# Exibindo as variáveis\n",
        "print(f\"Nome: {nome}\")\n",
        "print(f\"Idade: {idade} anos\")\n",
        "print(f\"Altura: {altura}m\")\n",
        "print(f\"Peso: {peso}kg\")\n",
        "print(f\"Cidade: {cidade}\")\n",
        "print(f\"É estudante: {is_estudante}\")\n",
        "print(f\"Tem carteira: {tem_carteira}\")"
      ],
      "metadata": {
        "colab": {
          "base_uri": "https://localhost:8080/"
        },
        "id": "_PEDzoJ6DSBd",
        "outputId": "9a3871b2-2193-4849-a982-218aacb6bd78"
      },
      "execution_count": 12,
      "outputs": [
        {
          "output_type": "stream",
          "name": "stdout",
          "text": [
            "Nome: João Silva\n",
            "Idade: 25 anos\n",
            "Altura: 1.75m\n",
            "Peso: 70.5kg\n",
            "Cidade: São Paulo\n",
            "É estudante: True\n",
            "Tem carteira: False\n"
          ]
        }
      ]
    },
    {
      "cell_type": "code",
      "source": [
        "# Verificando tipos de dados\n",
        "print(f\"\\nTipo da variável 'nome': {type(nome)}\")\n",
        "print(f\"Tipo da variável 'idade': {type(idade)}\")\n",
        "print(f\"Tipo da variável 'altura': {type(altura)}\")\n",
        "print(f\"Tipo da variável 'is_estudante': {type(is_estudante)}\")"
      ],
      "metadata": {
        "colab": {
          "base_uri": "https://localhost:8080/"
        },
        "id": "mbYriDeNDV12",
        "outputId": "b47b39f4-da9e-4dc0-fa5c-6060ca89f8ae"
      },
      "execution_count": 13,
      "outputs": [
        {
          "output_type": "stream",
          "name": "stdout",
          "text": [
            "\n",
            "Tipo da variável 'nome': <class 'str'>\n",
            "Tipo da variável 'idade': <class 'int'>\n",
            "Tipo da variável 'altura': <class 'float'>\n",
            "Tipo da variável 'is_estudante': <class 'bool'>\n"
          ]
        }
      ]
    },
    {
      "cell_type": "code",
      "source": [
        "# 2. OPERADORES ARITMÉTICOS\n",
        "\n",
        "print(\"\\n➕ 2. OPERADORES ARITMÉTICOS\")\n",
        "print(\"-\" * 40)\n",
        "\n",
        "num1 = 20\n",
        "num2 = 8"
      ],
      "metadata": {
        "colab": {
          "base_uri": "https://localhost:8080/"
        },
        "id": "yOOIqKR5DZCd",
        "outputId": "a082385d-9bc6-4a24-baf8-d9dfe57249f0"
      },
      "execution_count": 15,
      "outputs": [
        {
          "output_type": "stream",
          "name": "stdout",
          "text": [
            "\n",
            "➕ 2. OPERADORES ARITMÉTICOS\n",
            "----------------------------------------\n"
          ]
        }
      ]
    },
    {
      "cell_type": "code",
      "source": [
        "# Operações básicas\n",
        "soma = num1 + num2           # Adição\n",
        "subtracao = num1 - num2      # Subtração\n",
        "multiplicacao = num1 * num2  # Multiplicação\n",
        "divisao = num1 / num2        # Divisão\n",
        "divisao_inteira = num1 // num2  # Divisão inteira\n",
        "resto = num1 % num2          # Módulo (resto da divisão)\n",
        "potencia = num1 ** 2         # Potenciação"
      ],
      "metadata": {
        "id": "_0CgJ6r9DiVt"
      },
      "execution_count": 17,
      "outputs": []
    },
    {
      "cell_type": "code",
      "source": [
        "print(f\"{num1} + {num2} = {soma}\")\n",
        "print(f\"{num1} - {num2} = {subtracao}\")\n",
        "print(f\"{num1} × {num2} = {multiplicacao}\")\n",
        "print(f\"{num1} ÷ {num2} = {divisao}\")\n",
        "print(f\"{num1} ÷÷ {num2} = {divisao_inteira}\")\n",
        "print(f\"{num1} % {num2} = {resto}\")\n",
        "print(f\"{num1}² = {potencia}\")\n"
      ],
      "metadata": {
        "colab": {
          "base_uri": "https://localhost:8080/"
        },
        "id": "4XnHruNVDoTE",
        "outputId": "36fdfdd1-3dc1-4562-a614-8c6eb3a1c401"
      },
      "execution_count": 18,
      "outputs": [
        {
          "output_type": "stream",
          "name": "stdout",
          "text": [
            "20 + 8 = 28\n",
            "20 - 8 = 12\n",
            "20 × 8 = 160\n",
            "20 ÷ 8 = 2.5\n",
            "20 ÷÷ 8 = 2\n",
            "20 % 8 = 4\n",
            "20² = 400\n"
          ]
        }
      ]
    },
    {
      "cell_type": "code",
      "source": [
        "# Calculando IMC como exemplo para teste de conhecimento\n",
        "imc = peso / (altura ** 2)\n",
        "print(f\"\\nIMC calculado: {imc:.2f}\")"
      ],
      "metadata": {
        "colab": {
          "base_uri": "https://localhost:8080/"
        },
        "id": "1T3lUjt_DrmF",
        "outputId": "2922487c-4fb5-40e1-bb4a-9ac619ba5291"
      },
      "execution_count": 19,
      "outputs": [
        {
          "output_type": "stream",
          "name": "stdout",
          "text": [
            "\n",
            "IMC calculado: 23.02\n"
          ]
        }
      ]
    },
    {
      "cell_type": "code",
      "source": [
        "3. #ESTRUTURAS CONDICIONAIS (IF, ELSE, ELIF)\n",
        "\n",
        "print(\"\\n🔀 3. ESTRUTURAS CONDICIONAIS\")\n",
        "print(\"-\" * 40)\n"
      ],
      "metadata": {
        "colab": {
          "base_uri": "https://localhost:8080/"
        },
        "id": "sCnfjzkMDzRd",
        "outputId": "4e988541-1173-4d20-b519-8f2b04d33f7d"
      },
      "execution_count": 21,
      "outputs": [
        {
          "output_type": "stream",
          "name": "stdout",
          "text": [
            "\n",
            "🔀 3. ESTRUTURAS CONDICIONAIS\n",
            "----------------------------------------\n"
          ]
        }
      ]
    },
    {
      "cell_type": "code",
      "source": [
        "# Exemplo 1: Verificando maioridade\n",
        "print(\"Exemplo 1 - Verificação de maioridade:\")\n",
        "if idade >= 18:\n",
        "    print(f\"{nome} é maior de idade ({idade} anos)\")\n",
        "else:\n",
        "    print(f\"{nome} é menor de idade ({idade} anos)\")\n"
      ],
      "metadata": {
        "colab": {
          "base_uri": "https://localhost:8080/"
        },
        "id": "UMyBtCRyD9xX",
        "outputId": "81759b0b-dd6f-46f6-c9d6-28dc99d9a39e"
      },
      "execution_count": 22,
      "outputs": [
        {
          "output_type": "stream",
          "name": "stdout",
          "text": [
            "Exemplo 1 - Verificação de maioridade:\n",
            "João Silva é maior de idade (25 anos)\n"
          ]
        }
      ]
    },
    {
      "cell_type": "code",
      "source": [
        "# Exemplo 2: Classificação de IMC\n",
        "print(\"\\nExemplo 2 - Classificação de IMC:\")\n",
        "if imc < 18.5:\n",
        "    classificacao = \"Abaixo do peso\"\n",
        "elif imc < 25:\n",
        "    classificacao = \"Peso normal\"\n",
        "elif imc < 30:\n",
        "    classificacao = \"Sobrepeso\"\n",
        "else:\n",
        "    classificacao = \"Obesidade\""
      ],
      "metadata": {
        "colab": {
          "base_uri": "https://localhost:8080/"
        },
        "id": "D76r_CmvEBnm",
        "outputId": "4bd09a0e-8e35-43db-dc32-7e7c840772b2"
      },
      "execution_count": 23,
      "outputs": [
        {
          "output_type": "stream",
          "name": "stdout",
          "text": [
            "\n",
            "Exemplo 2 - Classificação de IMC:\n"
          ]
        }
      ]
    },
    {
      "cell_type": "code",
      "source": [
        "# Exemplo 3: Sistema de notas\n",
        "print(\"\\nExemplo 3 - Sistema de notas:\")\n",
        "nota = 8.5\n",
        "\n",
        "if nota >= 9:\n",
        "    conceito = \"A - Excelente\"\n",
        "elif nota >= 7:\n",
        "    conceito = \"B - Bom\"\n",
        "elif nota >= 5:\n",
        "    conceito = \"C - Regular\"\n",
        "else:\n",
        "    conceito = \"D - Insuficiente\"\n",
        "\n",
        "print(f\"Nota: {nota} - Conceito: {conceito}\")\n"
      ],
      "metadata": {
        "colab": {
          "base_uri": "https://localhost:8080/"
        },
        "id": "khtQNF0JEGQF",
        "outputId": "86e480f9-00c4-4bb3-9ab4-3fc5ab5fcd93"
      },
      "execution_count": 24,
      "outputs": [
        {
          "output_type": "stream",
          "name": "stdout",
          "text": [
            "\n",
            "Exemplo 3 - Sistema de notas:\n",
            "Nota: 8.5 - Conceito: B - Bom\n"
          ]
        }
      ]
    },
    {
      "cell_type": "code",
      "source": [
        "# 4. OPERADORES LÓGICOS (AND, OR, NOT) (RODE UM POR VEZ)\n",
        "\n",
        "print(\"\\n🔗 4. OPERADORES LÓGICOS\")\n",
        "print(\"-\" * 40)\n",
        "\n",
        "# Definindo variáveis para exemplos\n",
        "tem_dinheiro = True\n",
        "tem_tempo = False\n",
        "esta_chovendo = True\n",
        "tem_guarda_chuva = False\n",
        "\n",
        "# Operador AND (E)\n",
        "print(\"Operador AND:\")\n",
        "pode_viajar = tem_dinheiro and tem_tempo\n",
        "print(f\"Tem dinheiro: {tem_dinheiro}\")\n",
        "print(f\"Tem tempo: {tem_tempo}\")\n",
        "print(f\"Pode viajar: {pode_viajar}\")\n",
        "\n",
        "# Operador OR (OU)\n",
        "print(\"\\nOperador OR:\")\n",
        "pode_sair = not esta_chovendo or tem_guarda_chuva\n",
        "print(f\"Está chovendo: {esta_chovendo}\")\n",
        "print(f\"Tem guarda-chuva: {tem_guarda_chuva}\")\n",
        "print(f\"Pode sair: {pode_sair}\")\n",
        "\n",
        "# Operador NOT (NÃO)\n",
        "print(\"\\nOperador NOT:\")\n",
        "nao_esta_chovendo = not esta_chovendo\n",
        "print(f\"Não está chovendo: {nao_esta_chovendo}\")\n"
      ],
      "metadata": {
        "colab": {
          "base_uri": "https://localhost:8080/"
        },
        "id": "W71hNxq1EMvd",
        "outputId": "33276cc8-3278-403f-fb59-4f9dd12fcc89"
      },
      "execution_count": 32,
      "outputs": [
        {
          "output_type": "stream",
          "name": "stdout",
          "text": [
            "\n",
            "🔗 4. OPERADORES LÓGICOS\n",
            "----------------------------------------\n",
            "Operador AND:\n",
            "Tem dinheiro: True\n",
            "Tem tempo: False\n",
            "Pode viajar: False\n",
            "\n",
            "Operador OR:\n",
            "Está chovendo: True\n",
            "Tem guarda-chuva: False\n",
            "Pode sair: False\n",
            "\n",
            "Operador NOT:\n",
            "Não está chovendo: False\n"
          ]
        }
      ]
    },
    {
      "cell_type": "code",
      "source": [
        "# Exemplo complexo\n",
        "print(\"\\nExemplo complexo:\")\n",
        "idade_minima = 18\n",
        "tem_cnh = True\n",
        "tem_veiculo = False\n",
        "\n",
        "pode_dirigir = (idade >= idade_minima) and tem_cnh and (tem_veiculo or tem_dinheiro)\n",
        "print(f\"Pode dirigir: {pode_dirigir}\")"
      ],
      "metadata": {
        "colab": {
          "base_uri": "https://localhost:8080/"
        },
        "id": "sh3K6PyFEXPd",
        "outputId": "069ec88e-facf-4dcd-b017-d906d96bd32d"
      },
      "execution_count": 33,
      "outputs": [
        {
          "output_type": "stream",
          "name": "stdout",
          "text": [
            "\n",
            "Exemplo complexo:\n",
            "Pode dirigir: True\n"
          ]
        }
      ]
    },
    {
      "cell_type": "code",
      "source": [
        "# 5. OPERADORES DE COMPARAÇÃO\n",
        "print(\"\\n⚖️ 5. OPERADORES DE COMPARAÇÃO\")\n",
        "print(\"-\" * 40)\n",
        "\n",
        "a = 10\n",
        "b = 15\n",
        "c = 10\n",
        "\n",
        "print(f\"a = {a}, b = {b}, c = {c}\")\n",
        "print(f\"a == c: {a == c}\")    # Igual\n",
        "print(f\"a != b: {a != b}\")    # Diferente\n",
        "print(f\"a < b: {a < b}\")      # Menor que\n",
        "print(f\"b > a: {b > a}\")      # Maior que\n",
        "print(f\"a <= c: {a <= c}\")    # Menor ou igual\n",
        "print(f\"b >= a: {b >= a}\")    # Maior ou igual\n"
      ],
      "metadata": {
        "colab": {
          "base_uri": "https://localhost:8080/"
        },
        "id": "2xCybXREExp9",
        "outputId": "7f6ae4dd-2591-4be2-878f-5c9c66157017"
      },
      "execution_count": 35,
      "outputs": [
        {
          "output_type": "stream",
          "name": "stdout",
          "text": [
            "\n",
            "⚖️ 5. OPERADORES DE COMPARAÇÃO\n",
            "----------------------------------------\n",
            "a = 10, b = 15, c = 10\n",
            "a == c: True\n",
            "a != b: True\n",
            "a < b: True\n",
            "b > a: True\n",
            "a <= c: True\n",
            "b >= a: True\n"
          ]
        }
      ]
    },
    {
      "cell_type": "code",
      "source": [
        "# 6. LISTAS E MANIPULAÇÃO\n",
        "\n",
        "print(\"\\n 6. LISTAS E MANIPULAÇÃO\")\n",
        "print(\"-\" * 40)\n",
        "\n",
        "# Criando listas\n",
        "frutas = [\"maçã\", \"banana\", \"laranja\", \"uva\"]\n",
        "numeros = [1, 2, 3, 4, 5]\n",
        "mista = [\"João\", 25, True, 1.75]\n",
        "\n",
        "print(f\"Lista de frutas: {frutas}\")\n",
        "print(f\"Lista de números: {numeros}\")\n",
        "print(f\"Lista mista: {mista}\")\n",
        "\n",
        "# Acessando elementos\n",
        "print(f\"\\nPrimeira fruta: {frutas[0]}\")\n",
        "print(f\"Última fruta: {frutas[-1]}\")\n",
        "\n",
        "# Adicionando elementos\n",
        "frutas.append(\"manga\")\n",
        "print(f\"Após adicionar manga: {frutas}\")\n",
        "\n",
        "# Removendo elementos\n",
        "frutas.remove(\"banana\")\n",
        "print(f\"Após remover banana: {frutas}\")\n",
        "\n",
        "# Verificando se elemento existe\n",
        "if \"maçã\" in frutas:\n",
        "    print(\"Maçã está na lista!\")\n",
        "\n",
        "# Tamanho da lista\n",
        "print(f\"Número de frutas: {len(frutas)}\")\n",
        "\n"
      ],
      "metadata": {
        "colab": {
          "base_uri": "https://localhost:8080/"
        },
        "id": "1ooCScdyE1j0",
        "outputId": "5983efef-8fde-47c8-cd01-77bed1d649f1"
      },
      "execution_count": 42,
      "outputs": [
        {
          "output_type": "stream",
          "name": "stdout",
          "text": [
            "\n",
            " 6. LISTAS E MANIPULAÇÃO\n",
            "----------------------------------------\n",
            "Lista de frutas: ['maçã', 'banana', 'laranja', 'uva']\n",
            "Lista de números: [1, 2, 3, 4, 5]\n",
            "Lista mista: ['João', 25, True, 1.75]\n",
            "\n",
            "Primeira fruta: maçã\n",
            "Última fruta: uva\n",
            "Após adicionar manga: ['maçã', 'banana', 'laranja', 'uva', 'manga']\n",
            "Após remover banana: ['maçã', 'laranja', 'uva', 'manga']\n"
          ]
        }
      ]
    },
    {
      "cell_type": "code",
      "source": [
        "# 7. LOOPS (FOR E WHILE)\n",
        "print(\"\\n 7. LOOPS (FOR E WHILE)\")\n",
        "print(\"-\" * 40)\n",
        "\n",
        "# Loop FOR\n",
        "print(\"Loop FOR - Contando de 1 a 5:\")\n",
        "for i in range(1, 6):\n",
        "    print(f\"Número: {i}\")\n",
        "\n",
        "# Loop FOR com lista\n",
        "print(\"\\nLoop FOR - Percorrendo lista de frutas:\")\n",
        "for fruta in frutas:\n",
        "    print(f\" {fruta}\")\n",
        "\n",
        "# Loop WHILE\n",
        "print(\"\\nLoop WHILE - Contagem regressiva:\")\n",
        "contador = 5\n",
        "while contador > 0:\n",
        "    print(f\"Contagem: {contador}\")\n",
        "    contador -= 1  # contador = contador - 1\n",
        "print(\" Lançamento!\")"
      ],
      "metadata": {
        "colab": {
          "base_uri": "https://localhost:8080/"
        },
        "id": "cwrVsn1AF5Ss",
        "outputId": "564689e0-838b-4ae5-cb69-2787144d8aa7"
      },
      "execution_count": 46,
      "outputs": [
        {
          "output_type": "stream",
          "name": "stdout",
          "text": [
            "\n",
            " 7. LOOPS (FOR E WHILE)\n",
            "----------------------------------------\n",
            "Loop FOR - Contando de 1 a 5:\n",
            "Número: 1\n",
            "Número: 2\n",
            "Número: 3\n",
            "Número: 4\n",
            "Número: 5\n",
            "\n",
            "Loop FOR - Percorrendo lista de frutas:\n",
            " maçã\n",
            " laranja\n",
            " uva\n",
            " manga\n",
            "\n",
            "Loop WHILE - Contagem regressiva:\n",
            "Contagem: 5\n",
            "Contagem: 4\n",
            "Contagem: 3\n",
            "Contagem: 2\n",
            "Contagem: 1\n",
            "🚀 Lançamento!\n"
          ]
        }
      ]
    },
    {
      "cell_type": "code",
      "source": [
        "# 8. FUNÇÕES\n",
        "print(\"\\n🔧 8. FUNÇÕES\")\n",
        "print(\"-\" * 40)\n",
        "\n",
        "# Função simples\n",
        "def saudacao(nome):\n",
        "    \"\"\"Função que retorna uma saudação personalizada\"\"\"\n",
        "    return f\"Olá, {nome}! Bem-vindo ao Curso de Python da Yto Academy!\"\n",
        "\n",
        "# Função com múltiplos parâmetros\n",
        "def calcular_area_retangulo(largura, altura):\n",
        "    \"\"\"Calcula a área de um retângulo\"\"\"\n",
        "    area = largura * altura\n",
        "    return area\n",
        "\n",
        "# Função com parâmetro padrão\n",
        "def apresentar_pessoa(nome, idade, cidade=\"Não informada\"):\n",
        "    \"\"\"Apresenta uma pessoa com informações básicas\"\"\"\n",
        "    print(f\"Nome: {nome}\")\n",
        "    print(f\"Idade: {idade}\")\n",
        "    print(f\"Cidade: {cidade}\")\n",
        "\n",
        "# Testando as funções\n",
        "print(saudacao(\"Cristiano\"))\n",
        "print(f\"Área do retângulo (5x3): {calcular_area_retangulo(5, 3)}\")\n",
        "\n",
        "print(\"\\nApresentação 1:\")\n",
        "apresentar_pessoa(\"Carlos\", 30, \"Rio de Janeiro\")\n",
        "\n",
        "print(\"\\nApresentação 2:\")\n",
        "apresentar_pessoa(\"Ana\", 28)"
      ],
      "metadata": {
        "colab": {
          "base_uri": "https://localhost:8080/"
        },
        "id": "h2KwSd0_GZ8N",
        "outputId": "3dc04cf9-a8b9-4e2f-d969-bd38e92b30e1"
      },
      "execution_count": 50,
      "outputs": [
        {
          "output_type": "stream",
          "name": "stdout",
          "text": [
            "\n",
            "🔧 8. FUNÇÕES\n",
            "----------------------------------------\n",
            "Olá, Cristiano! Bem-vindo ao Curso de Python da Yto Academy!\n",
            "Área do retângulo (5x3): 15\n",
            "\n",
            "Apresentação 1:\n",
            "Nome: Carlos\n",
            "Idade: 30\n",
            "Cidade: Rio de Janeiro\n",
            "\n",
            "Apresentação 2:\n",
            "Nome: Ana\n",
            "Idade: 28\n",
            "Cidade: Não informada\n"
          ]
        }
      ]
    },
    {
      "cell_type": "code",
      "source": [
        "# 9. DICIONÁRIOS\n",
        "#\n",
        "print(\"\\n 9. DICIONÁRIOS\")\n",
        "print(\"-\" * 40)\n",
        "\n",
        "# Criando dicionário\n",
        "pessoa = {\n",
        "    \"nome\": \"Pedro Silva\",\n",
        "    \"idade\": 32,\n",
        "    \"profissao\": \"Engenheiro\",\n",
        "    \"cidade\": \"Belo Horizonte\",\n",
        "    \"hobbies\": [\"leitura\", \"natação\", \"culinária\"]\n",
        "}\n",
        "\n",
        "print(\"Informações da pessoa:\")\n",
        "for chave, valor in pessoa.items():\n",
        "    print(f\"{chave.capitalize()}: {valor}\")\n",
        "\n",
        "# Acessando valores específicos\n",
        "print(f\"\\nNome: {pessoa['nome']}\")\n",
        "print(f\"Primeiro hobby: {pessoa['hobbies'][0]}\")\n",
        "\n",
        "# Verificando se chave existe\n",
        "if \"telefone\" in pessoa:\n",
        "    print(f\"Telefone: {pessoa['telefone']}\")\n",
        "else:\n",
        "    print(\"Telefone não informado\")"
      ],
      "metadata": {
        "colab": {
          "base_uri": "https://localhost:8080/"
        },
        "id": "kxmHMOV1G9Xd",
        "outputId": "ea72ceb4-510a-4d86-d037-2b97c0c0192e"
      },
      "execution_count": 53,
      "outputs": [
        {
          "output_type": "stream",
          "name": "stdout",
          "text": [
            "\n",
            " 9. DICIONÁRIOS\n",
            "----------------------------------------\n",
            "Informações da pessoa:\n",
            "Nome: Pedro Silva\n",
            "Idade: 32\n",
            "Profissao: Engenheiro\n",
            "Cidade: Belo Horizonte\n",
            "Hobbies: ['leitura', 'natação', 'culinária']\n",
            "\n",
            "Nome: Pedro Silva\n",
            "Primeiro hobby: leitura\n",
            "Telefone não informado\n"
          ]
        }
      ]
    },
    {
      "cell_type": "code",
      "source": [
        "# 11. TRATAMENTO DE ERROS (TRY/EXCEPT)\n",
        "\n",
        "print(\"\\n 11. TRATAMENTO DE ERROS\")\n",
        "print(\"-\" * 40)\n",
        "\n",
        "def dividir_numeros(a, b):\n",
        "    \"\"\"Divide dois números com tratamento de erro\"\"\"\n",
        "    try:\n",
        "        resultado = a / b\n",
        "        return resultado\n",
        "    except ZeroDivisionError:\n",
        "        print(\"Erro: Não é possível dividir por zero!\")\n",
        "        return None\n",
        "    except TypeError:\n",
        "        print(\"Erro: Os valores devem ser números!\")\n",
        "        return None\n",
        "\n",
        "# Testando divisão\n",
        "print(f\"10 ÷ 2 = {dividir_numeros(10, 2)}\")\n",
        "print(f\"10 ÷ 0 = {dividir_numeros(10, 0)}\")\n",
        "\n",
        "# Validação de entrada\n",
        "def validar_idade(idade_str):\n",
        "    \"\"\"Valida se a idade é um número válido\"\"\"\n",
        "    try:\n",
        "        idade = int(idade_str)\n",
        "        if idade < 0:\n",
        "            print(\"Idade não pode ser negativa!\")\n",
        "            return False\n",
        "        elif idade > 150:\n",
        "            print(\"Idade parece muito alta!\")\n",
        "            return False\n",
        "        else:\n",
        "            return True\n",
        "    except ValueError:\n",
        "        print(\"Por favor, digite um número válido!\")\n",
        "        return False\n",
        "\n",
        "# Testando validação\n",
        "print(\"\\nTestando validação de idade:\")\n",
        "idades_teste = [\"25\", \"-5\", \"abc\", \"200\", \"30\"]\n",
        "for idade in idades_teste:\n",
        "    print(f\"'{idade}' é válida: {validar_idade(idade)}\")\n"
      ],
      "metadata": {
        "colab": {
          "base_uri": "https://localhost:8080/"
        },
        "id": "gKLU6OfGHJ61",
        "outputId": "b2f6630a-fa4e-4abf-f874-37846d24f23a"
      },
      "execution_count": 52,
      "outputs": [
        {
          "output_type": "stream",
          "name": "stdout",
          "text": [
            "\n",
            "⚠️ 11. TRATAMENTO DE ERROS\n",
            "----------------------------------------\n",
            "10 ÷ 2 = 5.0\n",
            "Erro: Não é possível dividir por zero!\n",
            "10 ÷ 0 = None\n",
            "\n",
            "Testando validação de idade:\n",
            "'25' é válida: True\n",
            "Idade não pode ser negativa!\n",
            "'-5' é válida: False\n",
            "Por favor, digite um número válido!\n",
            "'abc' é válida: False\n",
            "Idade parece muito alta!\n",
            "'200' é válida: False\n",
            "'30' é válida: True\n"
          ]
        }
      ]
    }
  ]
}